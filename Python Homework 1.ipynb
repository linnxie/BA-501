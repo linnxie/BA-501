{
 "cells": [
  {
   "cell_type": "code",
   "execution_count": null,
   "metadata": {
    "collapsed": true
   },
   "outputs": [],
   "source": [
    "##################Class 1 Question 1#######################\n",
    "# How do you handle duplicate values in a dataset in Python?"
   ]
  },
  {
   "cell_type": "code",
   "execution_count": null,
   "metadata": {
    "collapsed": true
   },
   "outputs": [],
   "source": [
    "Duplicate data can be problematic because they use up unnecessary amounts of memory \n",
    "and cause unneeded calculations to be performed when processing data. In addition, \n",
    "they can also skew analysis results.\n",
    "We can drop duplicates by '.drop_duplicates()' method."
   ]
  },
  {
   "cell_type": "code",
   "execution_count": 45,
   "metadata": {},
   "outputs": [
    {
     "ename": "SyntaxError",
     "evalue": "positional argument follows keyword argument (<ipython-input-45-5e6462e37e08>, line 5)",
     "output_type": "error",
     "traceback": [
      "\u001b[0;36m  File \u001b[0;32m\"<ipython-input-45-5e6462e37e08>\"\u001b[0;36m, line \u001b[0;32m5\u001b[0m\n\u001b[0;31m    df = pd.merge(friend_request, request_accepted, how='left', left_on=('requester_id','sent_to_id'), right_on='requestor_id', 'acceptor_id')\u001b[0m\n\u001b[0m                                                                                                                               ^\u001b[0m\n\u001b[0;31mSyntaxError\u001b[0m\u001b[0;31m:\u001b[0m positional argument follows keyword argument\n"
     ]
    }
   ],
   "source": [
    "########################Python Method#########################\n",
    "###################### NOT TO RUN ############################\n",
    "import pandas as pd \n",
    "\n",
    "df = pd.merge(friend_request, request_accepted, how='left', left_on=('requester_id','sent_to_id'), right_on='requestor_id', 'acceptor_id')\n",
    "total_request = df.count\n",
    "total_accept = sum(pd.isnull(df['acceptor_id']))\n",
    "rate = total_accept / total_accept\n",
    "print(rate)"
   ]
  },
  {
   "cell_type": "code",
   "execution_count": 14,
   "metadata": {},
   "outputs": [],
   "source": [
    "##################Class 1 Question 2#######################\n",
    "#You are given two tables - friend_request and request_accepted. \n",
    "#Friend_request contains requestor_id, time \n",
    "# and sent_to_id and request_accepted table contains \n",
    "# time, acceptor_id and requestor_id. \n",
    "# How will you determine the overall acceptance rate of requests? "
   ]
  },
  {
   "cell_type": "code",
   "execution_count": null,
   "metadata": {
    "collapsed": true
   },
   "outputs": [],
   "source": [
    "########################SQL Method############################\n",
    "###################### NOT TO RUN ############################\n",
    "# I assume that the primary key of friend_request table should not be any\n",
    "# any columns mentioned in the questions because each requestor can sent\n",
    "# multiple time of requests and vice versa.\n",
    "\n",
    "SELECT COUNT(a.acceptor_id)/ COUNT(r.requester_id) AS rate\n",
    "FROM\n",
    "(\n",
    "SELECT DISTINCT r.requester_id, r.sent_to_id, a.acceptor_id, a.requestor_id      \n",
    "FROM friend_request AS r\n",
    "LEFT JOIN request_accepted AS a\n",
    "  ON r.sent_to_id = a.acceptor_id \n",
    "    AND r.requester_id =a.requestor_id);"
   ]
  },
  {
   "cell_type": "code",
   "execution_count": 10,
   "metadata": {
    "collapsed": true
   },
   "outputs": [],
   "source": [
    "##################Class 1 Question 3#######################\n",
    "################## Questions omitted #####################"
   ]
  },
  {
   "cell_type": "code",
   "execution_count": 97,
   "metadata": {
    "collapsed": true
   },
   "outputs": [],
   "source": [
    "# Import data\n",
    "file_location = \"/Users/linn/Desktop/Python Notebook/\"\n",
    "file_name = \"orders_new.csv\"\n",
    "my_data = pd.read_csv(file_location + file_name)"
   ]
  },
  {
   "cell_type": "code",
   "execution_count": 98,
   "metadata": {
    "collapsed": true
   },
   "outputs": [],
   "source": [
    "# Import libraries\n",
    "import numpy as np\n",
    "import pandas as pd\n",
    "import matplotlib.pyplot as plt\n",
    "%matplotlib inline"
   ]
  },
  {
   "cell_type": "code",
   "execution_count": null,
   "metadata": {
    "collapsed": true
   },
   "outputs": [],
   "source": [
    "##################Class 2 Question 1#######################\n",
    "Similarly to PrintDailyTimeSeries() in the sample code, write a Python function called PrintCumulativeTimeSeries(). Specifically:\n",
    "\n",
    "The function takes three inputs:\n",
    "-\texperiment_id\n",
    "-\tcountry\n",
    "-\tvertical\n",
    "\n",
    "The function produces two outputs:\n",
    "-\tA time series chart showing the cumulative uplift \n",
    "      (hint: search for cumsum)\n",
    "Print out the cumulative % uplift on revenue, experiment vs. control. \n",
    "       Hint: (red - blue) / blue %"
   ]
  },
  {
   "cell_type": "code",
   "execution_count": 99,
   "metadata": {},
   "outputs": [
    {
     "data": {
      "text/plain": [
       "array([12624548, 12624549])"
      ]
     },
     "execution_count": 99,
     "metadata": {},
     "output_type": "execute_result"
    }
   ],
   "source": [
    "import datetime\n",
    "np.unique(my_data[\"experiment_id\"])"
   ]
  },
  {
   "cell_type": "code",
   "execution_count": 100,
   "metadata": {},
   "outputs": [],
   "source": [
    "# Define the 1st function\n",
    "# for any given experiment_id, return a list group by date\n",
    "def GetSeries(my_data, my_id):\n",
    "    table = my_data[[\"date\", \"spend_usd\"]][my_data.experiment_id == my_id]\n",
    "    series = table.groupby('date')['spend_usd'].sum()\n",
    "    return(series)\n"
   ]
  },
  {
   "cell_type": "code",
   "execution_count": 101,
   "metadata": {},
   "outputs": [
    {
     "name": "stdout",
     "output_type": "stream",
     "text": [
      "date\n",
      "2017-04-01    55504.518743\n",
      "2017-04-02    31317.138253\n",
      "2017-04-03    31583.940583\n",
      "2017-04-04    23615.742230\n",
      "2017-04-05    30899.812674\n",
      "2017-04-06    27768.181870\n",
      "2017-04-07    32957.001652\n",
      "Name: spend_usd, dtype: float64\n",
      "date\n",
      "2017-04-01    54019.941288\n",
      "2017-04-02    34642.988992\n",
      "2017-04-03    28645.762133\n",
      "2017-04-04    27604.259313\n",
      "2017-04-05    33149.441763\n",
      "2017-04-06    29310.726245\n",
      "2017-04-07    34640.122009\n",
      "Name: spend_usd, dtype: float64\n"
     ]
    }
   ],
   "source": [
    "# test if it works\n",
    "red = GetSeries(my_data,12624548)\n",
    "blue = GetSeries(my_data,12624549)\n",
    "print(red)\n",
    "print(blue)\n"
   ]
  },
  {
   "cell_type": "code",
   "execution_count": 102,
   "metadata": {
    "collapsed": true
   },
   "outputs": [],
   "source": [
    "# Define the 2nd function\n",
    "# for any two series, plot the time series\n",
    "def PlotSeries(index_series, experiment_series, control_series):\n",
    "    df = pd.DataFrame(\n",
    "        {\n",
    "            \"experiment\": experiment_series.tolist(),\n",
    "            \"control\": control_series.tolist()\n",
    "        },\n",
    "        index = index_series.tolist(), # a range of dates\n",
    "        columns = [\"experiment\", \"control\"]\n",
    "    )\n",
    "    df.plot()"
   ]
  },
  {
   "cell_type": "code",
   "execution_count": 103,
   "metadata": {},
   "outputs": [
    {
     "data": {
      "text/plain": [
       "(array([ 0.,  1.,  2.,  3.,  4.,  5.,  6.]),\n",
       " <a list of 7 Text xticklabel objects>)"
      ]
     },
     "execution_count": 103,
     "metadata": {},
     "output_type": "execute_result"
    },
    {
     "data": {
      "image/png": "[encoded data removed]",
      "text/plain": [
       "<matplotlib.figure.Figure at 0x11a72e550>"
      ]
     },
     "metadata": {},
     "output_type": "display_data"
    }
   ],
   "source": [
    "# test if this works\n",
    "date_series = my_data.date\n",
    "index_series = np.unique(date_series)\n",
    "#index_series\n",
    "\n",
    "PlotSeries(index_series, red, blue)\n",
    "plt.xticks(rotation=60)"
   ]
  },
  {
   "cell_type": "code",
   "execution_count": 138,
   "metadata": {},
   "outputs": [],
   "source": [
    "################# The answer for this question###################\n",
    "# Define the 3rd function\n",
    "def PrintCumulativeTimeSeries(experiment_ids, country, vertical):\n",
    "    # make sure our x-axis is consistent\n",
    "    date_series = my_data.date\n",
    "    index_series = np.unique(date_series) # unique date\n",
    "    index_series = np.sort(index_series) # sort by date\n",
    "    \n",
    "    # data grouping\n",
    "    my_data = my_data.sort_values(\"date\", ascending=True, inplace=False)\n",
    "    treatment_series = my_data[\"spend_usd\"][(my_data.experiment_id == experiment_ids[0]) \n",
    "                                                      & (my_data.country == country)\n",
    "                                                      & (my_data.vertical == vertical)].cumsum()\n",
    "    \n",
    "    control_series = my_data[\"spend_usd\"][(my_data.experiment_id == experiment_ids[1]) \n",
    "                                                      & (my_data.country == country)\n",
    "                                                      & (my_data.vertical == vertical)].cumsum()\n",
    "   \n",
    "    PlotSeries(index_series, treatment_series, control_series)\n",
    "    plt.xticks(rotation=60)\n",
    "  "
   ]
  },
  {
   "cell_type": "code",
   "execution_count": 137,
   "metadata": {},
   "outputs": [
    {
     "ename": "UnboundLocalError",
     "evalue": "local variable 'my_data' referenced before assignment",
     "output_type": "error",
     "traceback": [
      "\u001b[0;31m---------------------------------------------------------------------------\u001b[0m",
      "\u001b[0;31mUnboundLocalError\u001b[0m                         Traceback (most recent call last)",
      "\u001b[0;32m<ipython-input-137-dc830658c6ac>\u001b[0m in \u001b[0;36m<module>\u001b[0;34m()\u001b[0m\n\u001b[1;32m      1\u001b[0m \u001b[0;31m# Let's test it out!\u001b[0m\u001b[0;34m\u001b[0m\u001b[0;34m\u001b[0m\u001b[0m\n\u001b[0;32m----> 2\u001b[0;31m \u001b[0mPrintCumulativeTimeSeries\u001b[0m\u001b[0;34m(\u001b[0m\u001b[0;34m[\u001b[0m\u001b[0;36m12624548\u001b[0m\u001b[0;34m,\u001b[0m\u001b[0;36m12624549\u001b[0m\u001b[0;34m]\u001b[0m\u001b[0;34m,\u001b[0m \u001b[0;34m\"US\"\u001b[0m\u001b[0;34m,\u001b[0m \u001b[0;34m\"YOUTUBE\"\u001b[0m\u001b[0;34m)\u001b[0m\u001b[0;34m\u001b[0m\u001b[0m\n\u001b[0m",
      "\u001b[0;32m<ipython-input-136-b42bd1a4848b>\u001b[0m in \u001b[0;36mPrintCumulativeTimeSeries\u001b[0;34m(experiment_ids, country, vertical)\u001b[0m\n\u001b[1;32m      3\u001b[0m \u001b[0;32mdef\u001b[0m \u001b[0mPrintCumulativeTimeSeries\u001b[0m\u001b[0;34m(\u001b[0m\u001b[0mexperiment_ids\u001b[0m\u001b[0;34m,\u001b[0m \u001b[0mcountry\u001b[0m\u001b[0;34m,\u001b[0m \u001b[0mvertical\u001b[0m\u001b[0;34m)\u001b[0m\u001b[0;34m:\u001b[0m\u001b[0;34m\u001b[0m\u001b[0m\n\u001b[1;32m      4\u001b[0m     \u001b[0;31m# make sure our x-axis is consistent\u001b[0m\u001b[0;34m\u001b[0m\u001b[0;34m\u001b[0m\u001b[0m\n\u001b[0;32m----> 5\u001b[0;31m     \u001b[0mdate_series\u001b[0m \u001b[0;34m=\u001b[0m \u001b[0mmy_data\u001b[0m\u001b[0;34m.\u001b[0m\u001b[0mdate\u001b[0m\u001b[0;34m\u001b[0m\u001b[0m\n\u001b[0m\u001b[1;32m      6\u001b[0m     \u001b[0mindex_series\u001b[0m \u001b[0;34m=\u001b[0m \u001b[0mnp\u001b[0m\u001b[0;34m.\u001b[0m\u001b[0munique\u001b[0m\u001b[0;34m(\u001b[0m\u001b[0mdate_series\u001b[0m\u001b[0;34m)\u001b[0m \u001b[0;31m# unique date\u001b[0m\u001b[0;34m\u001b[0m\u001b[0m\n\u001b[1;32m      7\u001b[0m     \u001b[0mindex_series\u001b[0m \u001b[0;34m=\u001b[0m \u001b[0mnp\u001b[0m\u001b[0;34m.\u001b[0m\u001b[0msort\u001b[0m\u001b[0;34m(\u001b[0m\u001b[0mindex_series\u001b[0m\u001b[0;34m)\u001b[0m \u001b[0;31m# sort by date\u001b[0m\u001b[0;34m\u001b[0m\u001b[0m\n",
      "\u001b[0;31mUnboundLocalError\u001b[0m: local variable 'my_data' referenced before assignment"
     ]
    }
   ],
   "source": [
    "# Let's test it out!\n",
    "PrintCumulativeTimeSeries([12624548,12624549], \"US\", \"YOUTUBE\")"
   ]
  },
  {
   "cell_type": "code",
   "execution_count": 134,
   "metadata": {},
   "outputs": [
    {
     "data": {
      "text/plain": [
       "0        ANDROID_APPS\n",
       "1        ANDROID_APPS\n",
       "2        ANDROID_APPS\n",
       "3        ANDROID_APPS\n",
       "4        ANDROID_APPS\n",
       "5        ANDROID_APPS\n",
       "6        ANDROID_APPS\n",
       "7        ANDROID_APPS\n",
       "8        ANDROID_APPS\n",
       "9        ANDROID_APPS\n",
       "10            YOUTUBE\n",
       "11       ANDROID_APPS\n",
       "12       ANDROID_APPS\n",
       "13       ANDROID_APPS\n",
       "14       ANDROID_APPS\n",
       "15       ANDROID_APPS\n",
       "16       ANDROID_APPS\n",
       "17       ANDROID_APPS\n",
       "18       ANDROID_APPS\n",
       "19       ANDROID_APPS\n",
       "20       ANDROID_APPS\n",
       "21       ANDROID_APPS\n",
       "22       ANDROID_APPS\n",
       "23       ANDROID_APPS\n",
       "24       ANDROID_APPS\n",
       "25       ANDROID_APPS\n",
       "26       ANDROID_APPS\n",
       "27       ANDROID_APPS\n",
       "28       ANDROID_APPS\n",
       "29       ANDROID_APPS\n",
       "             ...     \n",
       "39928    ANDROID_APPS\n",
       "39929           MUSIC\n",
       "39930           MUSIC\n",
       "39931           MUSIC\n",
       "39932           MUSIC\n",
       "39933    ANDROID_APPS\n",
       "39934    ANDROID_APPS\n",
       "39935    ANDROID_APPS\n",
       "39936    ANDROID_APPS\n",
       "39937    ANDROID_APPS\n",
       "39938    ANDROID_APPS\n",
       "39939    ANDROID_APPS\n",
       "39940    ANDROID_APPS\n",
       "39941    ANDROID_APPS\n",
       "39942    ANDROID_APPS\n",
       "39943    ANDROID_APPS\n",
       "39944    ANDROID_APPS\n",
       "39945    ANDROID_APPS\n",
       "39946    ANDROID_APPS\n",
       "39947    ANDROID_APPS\n",
       "39948    ANDROID_APPS\n",
       "39949    ANDROID_APPS\n",
       "39950    ANDROID_APPS\n",
       "39951         YOUTUBE\n",
       "39952    ANDROID_APPS\n",
       "39953    ANDROID_APPS\n",
       "39954    ANDROID_APPS\n",
       "39955    ANDROID_APPS\n",
       "39956    ANDROID_APPS\n",
       "39957           MUSIC\n",
       "Name: vertical, Length: 39958, dtype: object"
      ]
     },
     "execution_count": 134,
     "metadata": {},
     "output_type": "execute_result"
    }
   ],
   "source": [
    "my_data.vertical"
   ]
  },
  {
   "cell_type": "code",
   "execution_count": 133,
   "metadata": {},
   "outputs": [
    {
     "ename": "TypeError",
     "evalue": "unsupported operand type(s) for &: 'int' and 'str'",
     "output_type": "error",
     "traceback": [
      "\u001b[0;31m---------------------------------------------------------------------------\u001b[0m",
      "\u001b[0;31mTypeError\u001b[0m                                 Traceback (most recent call last)",
      "\u001b[0;32m<ipython-input-133-8dfdd77799a4>\u001b[0m in \u001b[0;36m<module>\u001b[0;34m()\u001b[0m\n\u001b[1;32m      1\u001b[0m treatment_series = my_data[\"spend_usd\"][my_data.experiment_id == 12624548 \n\u001b[0;32m----> 2\u001b[0;31m                                                       \u001b[0;34m&\u001b[0m \u001b[0mstr\u001b[0m\u001b[0;34m(\u001b[0m\u001b[0mmy_data\u001b[0m\u001b[0;34m.\u001b[0m\u001b[0mcountry\u001b[0m\u001b[0;34m)\u001b[0m \u001b[0;34m==\u001b[0m \u001b[0;34m\"US\"\u001b[0m\u001b[0;34m\u001b[0m\u001b[0m\n\u001b[0m\u001b[1;32m      3\u001b[0m                                                       & str(my_data.vertical) == \"YOUTUBE\"].cumsum()\n\u001b[1;32m      4\u001b[0m \u001b[0;34m\u001b[0m\u001b[0m\n\u001b[1;32m      5\u001b[0m \u001b[0;34m\u001b[0m\u001b[0m\n",
      "\u001b[0;31mTypeError\u001b[0m: unsupported operand type(s) for &: 'int' and 'str'"
     ]
    }
   ],
   "source": [
    "treatment_series = my_data[\"spend_usd\"][my_data.experiment_id == 12624548 \n",
    "                                                      & str(my_data.country) == \"US\"\n",
    "                                                      & str(my_data.vertical) == \"YOUTUBE\"].cumsum()\n",
    "    \n",
    "    "
   ]
  },
  {
   "cell_type": "code",
   "execution_count": null,
   "metadata": {
    "collapsed": true
   },
   "outputs": [],
   "source": []
  },
  {
   "cell_type": "code",
   "execution_count": null,
   "metadata": {},
   "outputs": [],
   "source": []
  },
  {
   "cell_type": "code",
   "execution_count": null,
   "metadata": {
    "collapsed": true
   },
   "outputs": [],
   "source": [
    "##################Class 2 Question 2#######################\n",
    "Using our data, draw a histogram which plots both US and JP data on the same plot. "
   ]
  },
  {
   "cell_type": "code",
   "execution_count": 31,
   "metadata": {},
   "outputs": [
    {
     "data": {
      "image/png": "[encoded data removed]",
      "text/plain": [
       "<matplotlib.figure.Figure at 0x119475b38>"
      ]
     },
     "metadata": {},
     "output_type": "display_data"
    }
   ],
   "source": [
    "# Slicing data\n",
    "my_series_jp = my_data[\"spend_usd\"][(my_data.spend_usd < 20) & (my_data.country == \"JP\")]\n",
    "my_series_us = my_data[\"spend_usd\"][(my_data.spend_usd < 20) & (my_data.country == \"US\")]\n",
    "plt.hist(my_series_jp, bins=20, color='blue',alpha=0.5,label='JP')\n",
    "plt.hist(my_series_us, bins=20, color='red', alpha=0.5, label='US')\n",
    "\n",
    "# Strings\n",
    "xlab = 'Spend [in USD]'\n",
    "ylab = 'Buyer Count'\n",
    "title = 'Compare Buyer Distribution Between US and JP'\n",
    "\n",
    "# Add axis labels\n",
    "plt.xlabel(xlab)\n",
    "plt.ylabel(ylab)\n",
    "\n",
    "# Add title\n",
    "plt.title(title) \n",
    "\n",
    "# Add a legend \n",
    "plt.legend(loc='upper right')\n",
    "\n",
    "# Set style to 'fivethirtyeight'\n",
    "plt.style.use('fivethirtyeight')\n",
    "\n",
    "# After customizing, display the plot\n",
    "plt.show()\n"
   ]
  },
  {
   "cell_type": "code",
   "execution_count": 42,
   "metadata": {},
   "outputs": [
    {
     "data": {
      "text/plain": [
       "<matplotlib.legend.Legend at 0x119d4fcf8>"
      ]
     },
     "execution_count": 42,
     "metadata": {},
     "output_type": "execute_result"
    },
    {
     "data": {
      "image/png": "[encoded data removed]",
      "text/plain": [
       "<matplotlib.figure.Figure at 0x1195b6c18>"
      ]
     },
     "metadata": {},
     "output_type": "display_data"
    }
   ],
   "source": [
    "# Or use the method taught in class\n",
    "fig, ax = plt.subplots()\n",
    "ax.hist(my_series_jp, bins=20, alpha=0.5, label='JP')\n",
    "ax.hist(my_series_us, bins=20,alpha=0.5, label='US')\n",
    "ax.set_title(\"Compare Buyer Distribution Between US and JP\")\n",
    "ax.set_ylabel(\"Buyer count\")\n",
    "ax.set_xlabel(\"Spend [in USD]\")\n",
    "handles, labels = ax.get_legend_handles_labels()\n",
    "ax.legend(handles, labels)"
   ]
  },
  {
   "cell_type": "code",
   "execution_count": null,
   "metadata": {
    "collapsed": true
   },
   "outputs": [],
   "source": [
    "##################Class 2 Question 3#######################"
   ]
  }
 ],
 "metadata": {
  "kernelspec": {
   "display_name": "Python 3",
   "language": "python",
   "name": "python3"
  },
  "language_info": {
   "codemirror_mode": {
    "name": "ipython",
    "version": 3
   },
   "file_extension": ".py",
   "mimetype": "text/x-python",
   "name": "python",
   "nbconvert_exporter": "python",
   "pygments_lexer": "ipython3",
   "version": "3.6.1"
  }
 },
 "nbformat": 4,
 "nbformat_minor": 2
}
